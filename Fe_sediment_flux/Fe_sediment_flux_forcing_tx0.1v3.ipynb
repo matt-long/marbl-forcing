{
 "cells": [
  {
   "cell_type": "markdown",
   "metadata": {},
   "source": [
    "# Compute the iron sediment forcing (`fedsedflux`) supplied to the model\n",
    "\n",
    "This notebook implements an approach to computing `fesedflux` originally in a IDL routine by J. K. Moore.\n",
    "\n",
    "`fesedflux` includes two components, oxic (`fesedflux_oxic`) and reducing `fesedflux_reduce` sediment sources.\n",
    "\n",
    "`fesedflux_oxic`: a constant low background value; increased in regions of high bottom horizontal current speed (sediment resuspenion) by up to a factor of 100.\n",
    "\n",
    "`fesedflux_reduce`: source everywhere linearly related to the sinking POC flux by `coef_fesedflux_POC_flux`; source is zero below `POC_flux_gCm2yr_min` (3 gC m$^{-2}$ yr$^{-1}$ in CESM2) and constant above a maximum `POC_flux` (`POC_flux_gCm2yr_max`). This puts a source on the shelf, and along productive slope/margins, but has little source in the deep ocean.\n",
    "\n",
    "`fesedflux` is computed on subgrid-scale bathymetry, using the fraction of each cell that is ocean bottom at each depth: `fesedfrac`. `fesedfrac` is [computed from ETOPO1 bathymetry](sedfrac_compute.ipynb).\n",
    "\n",
    "**`fesedflux_reduce` is subject to conditional modification:**\n",
    "- a maximum iron flux (implemented as max. sink POC flux)\n",
    "- a minimum percentage of each grid cell that is sediments (`land_adj_sedfrac_min`) for all land-adjacent grid cells\n",
    "- `fesedflux_reduce = 0` where POC flux is less < 3 gC m$^{-2}$ yr$^{-1}$; this is the deep ocean, where almost all the remineralization is oxic right on the sediment surface.\n",
    "\n",
    "\n",
    "**Arbitrary modification to this objective scheme:**\n",
    "- `fesedflux_reduce` is multiplied by 10 in the western equatorial Pacific (135-200E, 15S-15N, above 504 m). \n",
    "\n",
    "\n",
    "## Procedure\n",
    "\n",
    "1. Prepare `fesedfrac`:\n",
    "   - Read pre-computed [`fesedfrac`](sedfrac_compute.ipynb);\n",
    "   - Determine land-adjascent points;\n",
    "   - Create `sedfrac_mod` by applying `land_adj_sedfrac_min`.\n",
    "\n",
    "\n",
    "2. Compute `fesedflux_reduce`:\n",
    "   - Read `POC_flux` and convert units; \n",
    "   - Where `POC_flux < POC_flux_gCm2yr_min, POC_flux = 0.`;\n",
    "   - Where `POC_flux > POC_flux_gCm2yr_max, POC_flux = POC_flux_gCm2yr_max`\n",
    "   - `fesedflux_reduce = POC_flux * coef_fesedflux_POC_flux * sedfrac_mod`\n",
    "   - Apply ad hoc scaling in to select regions.\n",
    "\n",
    "\n",
    "3. Compute `fesedflux_oxic`:\n",
    "   - Read `UVEL` and `VVEL` and compute `current_speed`\n",
    "   - Where `current_speed < 1.0: current_speed = 1.0`\n",
    "   - Where `current_speed > 10.0: current_speed = 10.0` \n",
    "   - `fesedflux_oxic = coef_fesedflux_current_speed * sedfrac * current_speed**2`\n",
    "   \n",
    "\n",
    "4. Output `fesedflux_oxic` and `fesedflux_reduce` in model units: µmol/m^2/d\n",
    "   "
   ]
  },
  {
   "cell_type": "markdown",
   "metadata": {},
   "source": [
    "## Preliminary setup"
   ]
  },
  {
   "cell_type": "code",
   "execution_count": 1,
   "metadata": {},
   "outputs": [],
   "source": [
    "%matplotlib inline\n",
    "import os\n",
    "import tqdm\n",
    "import yaml\n",
    "from itertools import product\n",
    "\n",
    "from datetime import date, datetime, timezone\n",
    "\n",
    "import numpy as np\n",
    "import xarray as xr\n",
    "import scipy.sparse as sps\n",
    "\n",
    "import esmlab\n",
    "\n",
    "import matplotlib.pyplot as plt\n",
    "import matplotlib.colors as colors\n",
    "\n",
    "import config"
   ]
  },
  {
   "cell_type": "code",
   "execution_count": 2,
   "metadata": {},
   "outputs": [],
   "source": [
    "id_string = 'Fe_sediment_flux_forcing.ipynb from github.com/marbl-ecosys/marbl-forcing/Fe_sediment_flux'\n",
    "\n",
    "mol_per_nmol = 1e-9 \n",
    "mol_per_µmol = 1e-6\n",
    "mol_per_mmol = 1e-3\n",
    "mol_per_Gmol = 1e9\n",
    "gC_per_mol = 12.011 \n",
    "cm2_per_m2 = 1e4 \n",
    "d_per_yr = 365.0\n",
    "s_per_yr = d_per_yr * 86400.0\n",
    "nmolCcm2s_to_gCm2yr = mol_per_nmol * gC_per_mol * cm2_per_m2 * s_per_yr\n",
    "mmolCm2d_to_gCm2yr = mol_per_mmol * gC_per_mol * d_per_yr\n",
    "mmolm2yr_to_µmolm2d = 1. / d_per_yr / mol_per_µmol * mol_per_mmol"
   ]
  },
  {
   "cell_type": "markdown",
   "metadata": {},
   "source": [
    "### Specify model grid"
   ]
  },
  {
   "cell_type": "code",
   "execution_count": 3,
   "metadata": {},
   "outputs": [],
   "source": [
    "dst_grid = 'POP_tx0.1v3'\n",
    "\n",
    "POC_flux_gCm2yr_max = 20.\n",
    "POC_flux_gCm2yr_min = 3.\n",
    "\n",
    "current_speed_min = 1.   # cm/s\n",
    "current_speed_max = 10.  # cm/s\n",
    "\n",
    "western_pacific_factor = 10. # scale Fe flux in W. Pacific\n",
    "\n",
    "if dst_grid == 'POP_gx1v7':    \n",
    "    land_adj_sedfrac_min = 0.03\n",
    "    coef_fesedflux_POC_flux = 0.01614 * 1.6 # (mmolFe/m^2/yr)/(gC/m^2/yr)\n",
    "    coef_fesedflux_current_speed2 = 0.0006568 * 1.2\n",
    "    ltripole = False\n",
    "    \n",
    "elif dst_grid == 'POP_gx3v7':\n",
    "    land_adj_sedfrac_min = 0.015\n",
    "    coef_fesedflux_POC_flux = 0.01584 # (mmolFe/m^2/yr)/(gC/m^2/yr)\n",
    "    coef_fesedflux_current_speed2 = 0.0008405\n",
    "    ltripole = False\n",
    "    \n",
    "elif dst_grid == 'POP_tx0.1v3':\n",
    "    land_adj_sedfrac_min = 0.03\n",
    "    coef_fesedflux_POC_flux = 0.01614 # (mmolFe/m^2/yr)/(gC/m^2/yr)\n",
    "    coef_fesedflux_current_speed2 = 0.0006568\n",
    "    ltripole = True\n"
   ]
  },
  {
   "cell_type": "markdown",
   "metadata": {},
   "source": [
    "### Get model data `POC_FLUX_IN`, `UVEL`, `VVEL`, `KMT`"
   ]
  },
  {
   "cell_type": "markdown",
   "metadata": {},
   "source": [
    "#### Identify model input"
   ]
  },
  {
   "cell_type": "code",
   "execution_count": 22,
   "metadata": {},
   "outputs": [
    {
     "data": {
      "text/plain": [
       "{'POC_FLUX_IN': {'file': '/glade/collections/cdg/timeseries-cmip6/b.e21.B1850.f09_g17.CMIP6-piControl.001/ocn/proc/tseries/month_1/b.e21.B1850.f09_g17.CMIP6-piControl.001.pop.h.POP_gx1v7.060001-069912.nc',\n",
       "  'grid': 'POP_gx1v7'},\n",
       " 'UVEL': {'file': '/glade/collections/cdg/timeseries-cmip6/b.e21.B1850.f09_g17.CMIP6-piControl.001/ocn/proc/tseries/month_1/b.e21.B1850.f09_g17.CMIP6-piControl.001.pop.h.POP_gx1v7.060001-069912.nc',\n",
       "  'grid': 'POP_gx1v7'},\n",
       " 'VVEL': {'file': '/glade/collections/cdg/timeseries-cmip6/b.e21.B1850.f09_g17.CMIP6-piControl.001/ocn/proc/tseries/month_1/b.e21.B1850.f09_g17.CMIP6-piControl.001.pop.h.POP_gx1v7.060001-069912.nc',\n",
       "  'grid': 'POP_gx1v7'}}"
      ]
     },
     "execution_count": 22,
     "metadata": {},
     "output_type": "execute_result"
    }
   ],
   "source": [
    "case = 'b.e21.B1850.f09_g17.CMIP6-piControl.001'\n",
    "droot = f'/glade/collections/cdg/timeseries-cmip6/{case}'\n",
    "droot = f'{droot}/ocn/proc/tseries/month_1'\n",
    "datestr = '060001-069912'\n",
    "one_deg_file_name = lambda v: f'{droot}/{case}.pop.h.{v}.{datestr}.nc' \n",
    "one_deg_grid = 'POP_gx1v7'\n",
    "\n",
    "variables = ['POC_FLUX_IN', 'UVEL', 'VVEL']\n",
    "grid_vars = ['TAREA', 'KMT', 'TLONG', 'TLAT', 'z_t', 'time', 'time_bound']\n",
    "\n",
    "input_files = {}\n",
    "for v in variables:\n",
    "    if dst_grid == 'POP_gx1v7':\n",
    "        input_files[v] = dict(\n",
    "            file=one_deg_file_name('POP_gx1v7'),\n",
    "            grid=one_deg_grid,\n",
    "        )\n",
    "    elif dst_grid == 'POP_tx0.1v3':\n",
    "        if v not in ['UVEL', 'VVEL']:\n",
    "            input_files[v] = dict(\n",
    "                file=one_deg_file_name('POP_gx1v7'),\n",
    "                grid=one_deg_grid,\n",
    "            )\n",
    "        else:\n",
    "            input_files[v] = dict(\n",
    "                file=one_deg_file_name('POP_gx1v7'),\n",
    "                grid=one_deg_grid,\n",
    "            )            \n",
    "\n",
    "fesedflux_input_file = f'{config.dirwork}/{case}.fesedflux_input.{datestr}-mean.{dst_grid}.nc'\n",
    "fesedflux_input_file\n",
    "input_files"
   ]
  },
  {
   "cell_type": "markdown",
   "metadata": {},
   "source": [
    "Read model output and save input file; if input file exists, just read it."
   ]
  },
  {
   "cell_type": "code",
   "execution_count": 5,
   "metadata": {},
   "outputs": [
    {
     "name": "stdout",
     "output_type": "stream",
     "text": [
      "<Client: 'tcp://10.12.205.11:39195' processes=0 threads=0, memory=0 B>\n",
      "reading POC_FLUX_IN: /glade/collections/cdg/timeseries-cmip6/b.e21.B1850.f09_g17.CMIP6-piControl.001/ocn/proc/tseries/month_1/b.e21.B1850.f09_g17.CMIP6-piControl.001.pop.h.POC_FLUX_IN.060001-069912.nc\n",
      "reading UVEL: /glade/collections/cdg/timeseries-cmip6/b.e21.B1850.f09_g17.CMIP6-piControl.001/ocn/proc/tseries/month_1/b.e21.B1850.f09_g17.CMIP6-piControl.001.pop.h.UVEL.060001-069912.nc\n",
      "reading VVEL: /glade/collections/cdg/timeseries-cmip6/b.e21.B1850.f09_g17.CMIP6-piControl.001/ocn/proc/tseries/month_1/b.e21.B1850.f09_g17.CMIP6-piControl.001.pop.h.VVEL.060001-069912.nc\n",
      "dropping variables\n",
      "computing mean\n"
     ]
    },
    {
     "ename": "ValueError",
     "evalue": "Cannot assign to the .data attribute of dimension coordinate a.k.a IndexVariable 'time'. Please use DataArray.assign_coords, Dataset.assign_coords or Dataset.assign as appropriate.",
     "output_type": "error",
     "traceback": [
      "\u001b[0;31m---------------------------------------------------------------------------\u001b[0m",
      "\u001b[0;31mValueError\u001b[0m                                Traceback (most recent call last)",
      "\u001b[0;32m<ipython-input-5-960a36321896>\u001b[0m in \u001b[0;36m<module>\u001b[0;34m\u001b[0m\n\u001b[1;32m     31\u001b[0m     \u001b[0mprint\u001b[0m\u001b[0;34m(\u001b[0m\u001b[0;34m'computing mean'\u001b[0m\u001b[0;34m)\u001b[0m\u001b[0;34m\u001b[0m\u001b[0;34m\u001b[0m\u001b[0m\n\u001b[1;32m     32\u001b[0m     \u001b[0;32mwith\u001b[0m \u001b[0mxr\u001b[0m\u001b[0;34m.\u001b[0m\u001b[0mset_options\u001b[0m\u001b[0;34m(\u001b[0m\u001b[0mkeep_attrs\u001b[0m\u001b[0;34m=\u001b[0m\u001b[0;32mTrue\u001b[0m\u001b[0;34m)\u001b[0m\u001b[0;34m:\u001b[0m\u001b[0;34m\u001b[0m\u001b[0;34m\u001b[0m\u001b[0m\n\u001b[0;32m---> 33\u001b[0;31m         \u001b[0mds\u001b[0m \u001b[0;34m=\u001b[0m \u001b[0mesmlab\u001b[0m\u001b[0;34m.\u001b[0m\u001b[0mresample\u001b[0m\u001b[0;34m(\u001b[0m\u001b[0mds\u001b[0m\u001b[0;34m,\u001b[0m \u001b[0mfreq\u001b[0m\u001b[0;34m=\u001b[0m\u001b[0;34m'ann'\u001b[0m\u001b[0;34m)\u001b[0m\u001b[0;34m.\u001b[0m\u001b[0mmean\u001b[0m\u001b[0;34m(\u001b[0m\u001b[0;34m'time'\u001b[0m\u001b[0;34m)\u001b[0m\u001b[0;34m.\u001b[0m\u001b[0mcompute\u001b[0m\u001b[0;34m(\u001b[0m\u001b[0;34m)\u001b[0m\u001b[0;34m\u001b[0m\u001b[0;34m\u001b[0m\u001b[0m\n\u001b[0m\u001b[1;32m     34\u001b[0m \u001b[0;34m\u001b[0m\u001b[0m\n\u001b[1;32m     35\u001b[0m     \u001b[0;31m#-- regrid if necessary\u001b[0m\u001b[0;34m\u001b[0m\u001b[0;34m\u001b[0m\u001b[0;34m\u001b[0m\u001b[0m\n",
      "\u001b[0;32m/glade/work/mclong/miniconda3/envs/marbl-forcing/lib/python3.7/site-packages/esmlab/core.py\u001b[0m in \u001b[0;36mresample\u001b[0;34m(dset, freq, weights, time_coord_name, method)\u001b[0m\n\u001b[1;32m    780\u001b[0m \u001b[0;34m\u001b[0m\u001b[0m\n\u001b[1;32m    781\u001b[0m     \u001b[0;32melse\u001b[0m\u001b[0;34m:\u001b[0m\u001b[0;34m\u001b[0m\u001b[0;34m\u001b[0m\u001b[0m\n\u001b[0;32m--> 782\u001b[0;31m         ds = dset.esmlab.set_time(time_coord_name=time_coord_name).compute_ann_mean(\n\u001b[0m\u001b[1;32m    783\u001b[0m             \u001b[0mweights\u001b[0m\u001b[0;34m=\u001b[0m\u001b[0mweights\u001b[0m\u001b[0;34m,\u001b[0m \u001b[0mmethod\u001b[0m\u001b[0;34m=\u001b[0m\u001b[0mmethod\u001b[0m\u001b[0;34m\u001b[0m\u001b[0;34m\u001b[0m\u001b[0m\n\u001b[1;32m    784\u001b[0m         )\n",
      "\u001b[0;32m/glade/work/mclong/miniconda3/envs/marbl-forcing/lib/python3.7/site-packages/esmlab/core.py\u001b[0m in \u001b[0;36mset_time\u001b[0;34m(self, time_coord_name, year_offset)\u001b[0m\n\u001b[1;32m    358\u001b[0m                     \u001b[0mprint\u001b[0m\u001b[0;34m(\u001b[0m\u001b[0;34m'Please open dataset with `decode_times=False`'\u001b[0m\u001b[0;34m)\u001b[0m\u001b[0;34m\u001b[0m\u001b[0;34m\u001b[0m\u001b[0m\n\u001b[1;32m    359\u001b[0m                     \u001b[0;32mraise\u001b[0m \u001b[0mexc\u001b[0m\u001b[0;34m\u001b[0m\u001b[0;34m\u001b[0m\u001b[0m\n\u001b[0;32m--> 360\u001b[0;31m         \u001b[0mself\u001b[0m\u001b[0;34m.\u001b[0m\u001b[0msetup\u001b[0m\u001b[0;34m(\u001b[0m\u001b[0;34m)\u001b[0m\u001b[0;34m\u001b[0m\u001b[0;34m\u001b[0m\u001b[0m\n\u001b[0m\u001b[1;32m    361\u001b[0m         \u001b[0;32mreturn\u001b[0m \u001b[0mself\u001b[0m\u001b[0;34m\u001b[0m\u001b[0;34m\u001b[0m\u001b[0m\n\u001b[1;32m    362\u001b[0m \u001b[0;34m\u001b[0m\u001b[0m\n",
      "\u001b[0;32m/glade/work/mclong/miniconda3/envs/marbl-forcing/lib/python3.7/site-packages/esmlab/core.py\u001b[0m in \u001b[0;36msetup\u001b[0;34m(self)\u001b[0m\n\u001b[1;32m    363\u001b[0m     \u001b[0;32mdef\u001b[0m \u001b[0msetup\u001b[0m\u001b[0;34m(\u001b[0m\u001b[0mself\u001b[0m\u001b[0;34m)\u001b[0m\u001b[0;34m:\u001b[0m\u001b[0;34m\u001b[0m\u001b[0;34m\u001b[0m\u001b[0m\n\u001b[1;32m    364\u001b[0m         \u001b[0mself\u001b[0m\u001b[0;34m.\u001b[0m\u001b[0mget_variables\u001b[0m\u001b[0;34m(\u001b[0m\u001b[0;34m)\u001b[0m\u001b[0;34m\u001b[0m\u001b[0;34m\u001b[0m\u001b[0m\n\u001b[0;32m--> 365\u001b[0;31m         \u001b[0mself\u001b[0m\u001b[0;34m.\u001b[0m\u001b[0mcompute_time\u001b[0m\u001b[0;34m(\u001b[0m\u001b[0;34m)\u001b[0m\u001b[0;34m\u001b[0m\u001b[0;34m\u001b[0m\u001b[0m\n\u001b[0m\u001b[1;32m    366\u001b[0m         \u001b[0mself\u001b[0m\u001b[0;34m.\u001b[0m\u001b[0mget_original_metadata\u001b[0m\u001b[0;34m(\u001b[0m\u001b[0;34m)\u001b[0m\u001b[0;34m\u001b[0m\u001b[0;34m\u001b[0m\u001b[0m\n\u001b[1;32m    367\u001b[0m \u001b[0;34m\u001b[0m\u001b[0m\n",
      "\u001b[0;32m/glade/work/mclong/miniconda3/envs/marbl-forcing/lib/python3.7/site-packages/esmlab/core.py\u001b[0m in \u001b[0;36mcompute_time\u001b[0;34m(self)\u001b[0m\n\u001b[1;32m     80\u001b[0m \u001b[0;34m\u001b[0m\u001b[0m\n\u001b[1;32m     81\u001b[0m         \u001b[0;32mif\u001b[0m \u001b[0mself\u001b[0m\u001b[0;34m.\u001b[0m\u001b[0mtime_bound\u001b[0m \u001b[0;32mis\u001b[0m \u001b[0;32mnot\u001b[0m \u001b[0;32mNone\u001b[0m\u001b[0;34m:\u001b[0m\u001b[0;34m\u001b[0m\u001b[0;34m\u001b[0m\u001b[0m\n\u001b[0;32m---> 82\u001b[0;31m             \u001b[0mgroupby_coord\u001b[0m \u001b[0;34m=\u001b[0m \u001b[0mself\u001b[0m\u001b[0;34m.\u001b[0m\u001b[0mget_time_decoded\u001b[0m\u001b[0;34m(\u001b[0m\u001b[0mmidpoint\u001b[0m\u001b[0;34m=\u001b[0m\u001b[0;32mTrue\u001b[0m\u001b[0;34m)\u001b[0m\u001b[0;34m\u001b[0m\u001b[0;34m\u001b[0m\u001b[0m\n\u001b[0m\u001b[1;32m     83\u001b[0m \u001b[0;34m\u001b[0m\u001b[0m\n\u001b[1;32m     84\u001b[0m         \u001b[0;32melse\u001b[0m\u001b[0;34m:\u001b[0m\u001b[0;34m\u001b[0m\u001b[0;34m\u001b[0m\u001b[0m\n",
      "\u001b[0;32m/glade/work/mclong/miniconda3/envs/marbl-forcing/lib/python3.7/site-packages/esmlab/core.py\u001b[0m in \u001b[0;36mget_time_decoded\u001b[0;34m(self, midpoint)\u001b[0m\n\u001b[1;32m    185\u001b[0m                 \u001b[0munits\u001b[0m\u001b[0;34m=\u001b[0m\u001b[0mself\u001b[0m\u001b[0;34m.\u001b[0m\u001b[0mtime_attrs\u001b[0m\u001b[0;34m[\u001b[0m\u001b[0;34m'units'\u001b[0m\u001b[0;34m]\u001b[0m\u001b[0;34m,\u001b[0m\u001b[0;34m\u001b[0m\u001b[0;34m\u001b[0m\u001b[0m\n\u001b[1;32m    186\u001b[0m                 \u001b[0mcalendar\u001b[0m\u001b[0;34m=\u001b[0m\u001b[0mself\u001b[0m\u001b[0;34m.\u001b[0m\u001b[0mtime_attrs\u001b[0m\u001b[0;34m[\u001b[0m\u001b[0;34m'calendar'\u001b[0m\u001b[0;34m]\u001b[0m\u001b[0;34m,\u001b[0m\u001b[0;34m\u001b[0m\u001b[0;34m\u001b[0m\u001b[0m\n\u001b[0;32m--> 187\u001b[0;31m                 \u001b[0monly_use_cftime_datetimes\u001b[0m\u001b[0;34m=\u001b[0m\u001b[0;32mTrue\u001b[0m\u001b[0;34m,\u001b[0m\u001b[0;34m\u001b[0m\u001b[0;34m\u001b[0m\u001b[0m\n\u001b[0m\u001b[1;32m    188\u001b[0m             )\n\u001b[1;32m    189\u001b[0m         )\n",
      "\u001b[0;32m/glade/work/mclong/miniconda3/envs/marbl-forcing/lib/python3.7/site-packages/xarray/core/common.py\u001b[0m in \u001b[0;36m__setattr__\u001b[0;34m(self, name, value)\u001b[0m\n\u001b[1;32m    260\u001b[0m         \"\"\"\n\u001b[1;32m    261\u001b[0m         \u001b[0;32mtry\u001b[0m\u001b[0;34m:\u001b[0m\u001b[0;34m\u001b[0m\u001b[0;34m\u001b[0m\u001b[0m\n\u001b[0;32m--> 262\u001b[0;31m             \u001b[0mobject\u001b[0m\u001b[0;34m.\u001b[0m\u001b[0m__setattr__\u001b[0m\u001b[0;34m(\u001b[0m\u001b[0mself\u001b[0m\u001b[0;34m,\u001b[0m \u001b[0mname\u001b[0m\u001b[0;34m,\u001b[0m \u001b[0mvalue\u001b[0m\u001b[0;34m)\u001b[0m\u001b[0;34m\u001b[0m\u001b[0;34m\u001b[0m\u001b[0m\n\u001b[0m\u001b[1;32m    263\u001b[0m         \u001b[0;32mexcept\u001b[0m \u001b[0mAttributeError\u001b[0m \u001b[0;32mas\u001b[0m \u001b[0me\u001b[0m\u001b[0;34m:\u001b[0m\u001b[0;34m\u001b[0m\u001b[0;34m\u001b[0m\u001b[0m\n\u001b[1;32m    264\u001b[0m             \u001b[0;31m# Don't accidentally shadow custom AttributeErrors, e.g.\u001b[0m\u001b[0;34m\u001b[0m\u001b[0;34m\u001b[0m\u001b[0;34m\u001b[0m\u001b[0m\n",
      "\u001b[0;32m/glade/work/mclong/miniconda3/envs/marbl-forcing/lib/python3.7/site-packages/xarray/core/dataarray.py\u001b[0m in \u001b[0;36mdata\u001b[0;34m(self, value)\u001b[0m\n\u001b[1;32m    551\u001b[0m     \u001b[0;34m@\u001b[0m\u001b[0mdata\u001b[0m\u001b[0;34m.\u001b[0m\u001b[0msetter\u001b[0m\u001b[0;34m\u001b[0m\u001b[0;34m\u001b[0m\u001b[0m\n\u001b[1;32m    552\u001b[0m     \u001b[0;32mdef\u001b[0m \u001b[0mdata\u001b[0m\u001b[0;34m(\u001b[0m\u001b[0mself\u001b[0m\u001b[0;34m,\u001b[0m \u001b[0mvalue\u001b[0m\u001b[0;34m:\u001b[0m \u001b[0mAny\u001b[0m\u001b[0;34m)\u001b[0m \u001b[0;34m->\u001b[0m \u001b[0;32mNone\u001b[0m\u001b[0;34m:\u001b[0m\u001b[0;34m\u001b[0m\u001b[0;34m\u001b[0m\u001b[0m\n\u001b[0;32m--> 553\u001b[0;31m         \u001b[0mself\u001b[0m\u001b[0;34m.\u001b[0m\u001b[0mvariable\u001b[0m\u001b[0;34m.\u001b[0m\u001b[0mdata\u001b[0m \u001b[0;34m=\u001b[0m \u001b[0mvalue\u001b[0m\u001b[0;34m\u001b[0m\u001b[0;34m\u001b[0m\u001b[0m\n\u001b[0m\u001b[1;32m    554\u001b[0m \u001b[0;34m\u001b[0m\u001b[0m\n\u001b[1;32m    555\u001b[0m     \u001b[0;34m@\u001b[0m\u001b[0mproperty\u001b[0m\u001b[0;34m\u001b[0m\u001b[0;34m\u001b[0m\u001b[0m\n",
      "\u001b[0;32m/glade/work/mclong/miniconda3/envs/marbl-forcing/lib/python3.7/site-packages/xarray/core/variable.py\u001b[0m in \u001b[0;36mdata\u001b[0;34m(self, data)\u001b[0m\n\u001b[1;32m   2106\u001b[0m     \u001b[0;32mdef\u001b[0m \u001b[0mdata\u001b[0m\u001b[0;34m(\u001b[0m\u001b[0mself\u001b[0m\u001b[0;34m,\u001b[0m \u001b[0mdata\u001b[0m\u001b[0;34m)\u001b[0m\u001b[0;34m:\u001b[0m\u001b[0;34m\u001b[0m\u001b[0;34m\u001b[0m\u001b[0m\n\u001b[1;32m   2107\u001b[0m         raise ValueError(\n\u001b[0;32m-> 2108\u001b[0;31m             \u001b[0;34mf\"Cannot assign to the .data attribute of dimension coordinate a.k.a IndexVariable {self.name!r}. \"\u001b[0m\u001b[0;34m\u001b[0m\u001b[0;34m\u001b[0m\u001b[0m\n\u001b[0m\u001b[1;32m   2109\u001b[0m             \u001b[0;34mf\"Please use DataArray.assign_coords, Dataset.assign_coords or Dataset.assign as appropriate.\"\u001b[0m\u001b[0;34m\u001b[0m\u001b[0;34m\u001b[0m\u001b[0m\n\u001b[1;32m   2110\u001b[0m         )\n",
      "\u001b[0;31mValueError\u001b[0m: Cannot assign to the .data attribute of dimension coordinate a.k.a IndexVariable 'time'. Please use DataArray.assign_coords, Dataset.assign_coords or Dataset.assign as appropriate."
     ]
    }
   ],
   "source": [
    "if not os.path.exists(fesedflux_input_file):\n",
    "    \n",
    "    import ncar_jobqueue\n",
    "    import dask\n",
    "    import dask.distributed\n",
    "\n",
    "    cluster = ncar_jobqueue.NCARCluster(walltime='12:00:00')\n",
    "    client = dask.distributed.Client(cluster)\n",
    "    n_workers = 9 * 4\n",
    "    cluster.scale(n_workers)\n",
    "    \n",
    "    print(client)\n",
    "        \n",
    "    input_file_list = []\n",
    "    ds_in = xr.Dataset()\n",
    "    for v in variables:\n",
    "        file_in = input_files[v]['file']\n",
    "        assert os.path.exists(file_in), f'Missing {file_in}'\n",
    "        \n",
    "        input_file_list.append(file_in)\n",
    "        print(f'reading {v}: {file_in}')\n",
    "\n",
    "        dsv = xr.open_dataset(file_in, decode_times=False, \n",
    "                              decode_coords=False, chunks={'time': 24, 'z_t': 20})\n",
    "        ds_in = xr.merge((ds_in, dsv))\n",
    "\n",
    "    print('dropping variables')\n",
    "    ds_in = ds_in[variables+grid_vars]\n",
    "    \n",
    "    #-- compute long-term mean\n",
    "    print('computing mean')\n",
    "    time_weights = ds_in.time_bound.diff('d2').squeeze()\n",
    "    time_total = time_weights.sum()\n",
    "    wgt = time_weights / time_total\n",
    "    np.testing.assert_allclose(wgt.sum(), 1.0, rtol=1e-7)\n",
    "    with xr.set_options(keep_attrs=True):\n",
    "        ds_mean = (ds_in * wgt).sum('time')\n",
    "\n",
    "    #-- regrid if necessary\n",
    "    if src_grid != dst_grid:      \n",
    "        method = 'conservative'\n",
    "        R = esmlab_regrid.regridder(name_grid_src=src_grid, \n",
    "                                    name_grid_dst=dst_grid, \n",
    "                                    method=method, overwrite_existing=False)\n",
    "        \n",
    "        for v in variables:\n",
    "            data = R(ds_mean.x3D, renormalize=True, \n",
    "                     apply_mask=mask,\n",
    "                     post_method=util.fill_ocean_POP,\n",
    "                     post_method_kwargs={'mask': mask, 'ltripole': ltripole})\n",
    "            \n",
    "        raise NotImplementedError('regridding not yet implemented')    \n",
    "        \n",
    "    #-- write inputfile\n",
    "    print(f'writing {fesedflux_input_file}')\n",
    "    \n",
    "    ds.attrs['input_file_list'] = ' '.join(input_file_list)\n",
    "    \n",
    "    ds.to_netcdf(fesedflux_input_file)\n",
    "    \n",
    "    cluster.close()\n",
    "    client.close()\n",
    "\n",
    "else:\n",
    "    print(f'reading {fesedflux_input_file}')\n",
    "    ds = xr.open_dataset(fesedflux_input_file, decode_times=False, decode_coords=False).compute()\n",
    "    input_file_list = ds.attrs['input_file_list'].split(' ')\n",
    "    \n",
    "ds    "
   ]
  },
  {
   "cell_type": "markdown",
   "metadata": {},
   "source": [
    "## Prepare `fesedfrac`\n",
    "\n",
    "### Read pre-computed [`fesedfrac`](sedfrac_compute.ipynb)"
   ]
  },
  {
   "cell_type": "code",
   "execution_count": null,
   "metadata": {},
   "outputs": [],
   "source": [
    "with xr.open_dataset(config.sedfrac_file(dst_grid)) as dstmp:\n",
    "    sedfrac = dstmp.sedfrac.compute()\n",
    "    \n",
    "np.testing.assert_allclose(sedfrac.z_t.data, ds.z_t.data)\n",
    "sedfrac = sedfrac.reset_index('z_t', drop=True)\n",
    "\n",
    "sedfrac = sedfrac.where(ds.KMT > 0).fillna(0.)\n",
    "sedfrac.sum('z_t').plot()\n",
    "h = plt.title('Sum of sedfrac in column')\n",
    "\n",
    "plt.figure()\n",
    "sedfrac.isel(nlon=200).plot(yincrease=False, norm=colors.LogNorm(vmin=1e-8, vmax=1.))\n",
    "h = plt.title('Pacific transect')"
   ]
  },
  {
   "cell_type": "markdown",
   "metadata": {},
   "source": [
    "### Determine land-adjacent points and apply `land_adj_sedfrac_min`"
   ]
  },
  {
   "cell_type": "markdown",
   "metadata": {},
   "source": [
    "#### Compute a 3D topography mask\n",
    "Now we'll compute the 3D volume field, masked appropriate by the topography.\n",
    "\n",
    "First step is to create the land mask."
   ]
  },
  {
   "cell_type": "code",
   "execution_count": null,
   "metadata": {},
   "outputs": [],
   "source": [
    "nk = len(ds.z_t)\n",
    "nj, ni = ds.KMT.shape\n",
    "\n",
    "# make 3D array of 0:km\n",
    "zero_to_km = xr.DataArray(np.arange(0, nk), dims=('z_t'))\n",
    "ONES_3d = xr.DataArray(np.ones((nk, nj, ni)), dims=('z_t', 'nlat', 'nlon'))\n",
    "ZERO_TO_KM = (zero_to_km * ONES_3d)\n",
    "\n",
    "# mask out cells where k is below KMT\n",
    "MASK = ZERO_TO_KM.where(ZERO_TO_KM < ds.KMT)\n",
    "MASK = xr.where(MASK.notnull(), 1., 0.)\n",
    "\n",
    "plt.figure()\n",
    "MASK.isel(z_t=0).plot()\n",
    "h = plt.title('Surface mask')\n",
    "\n",
    "plt.figure()\n",
    "MASK.isel(nlon=200).plot(yincrease=False)\n",
    "h = plt.title('Pacific transect')"
   ]
  },
  {
   "cell_type": "markdown",
   "metadata": {},
   "source": [
    "Construct an array of `KMT` at all eight adjoining grid cells. `xarray.DataArray.roll` shifts the data periodically. For the `lon` direction, the domain is periodic, so this is appropriate. Our Greenland-pole grids have land at both northern and southern parts of the logical domain, so no special treament is required. The tri-pole grids, however, is periodic: the left half of the top row maps to the right half. If `ltripole == True`, we replace the bottom row of the `KMT` array with the top row flipped left-to-right. "
   ]
  },
  {
   "cell_type": "code",
   "execution_count": null,
   "metadata": {},
   "outputs": [],
   "source": [
    "kmt_neighbors = xr.DataArray(np.empty((nj, ni, 8)), dims=('nlat', 'nlon', 'corner'))\n",
    "corner = []\n",
    "\n",
    "kmt_rollable = ds.KMT\n",
    "if ltripole:\n",
    "    kmt_rollable[0, :] = kmt_rollable[::-1, :]\n",
    "\n",
    "n = 0\n",
    "for iroll, jroll in product([-1, 0, 1], [-1, 0, 1]):\n",
    "    # rolling?\n",
    "    if iroll == 0 and jroll == 0: continue\n",
    "\n",
    "    # directional coordinate label\n",
    "    i = '' if iroll == 0 else 'W' if iroll < 0 else 'E'\n",
    "    j = '' if jroll == 0 else 'N' if jroll < 0 else 'S'\n",
    "    corner.append(j+i)\n",
    "\n",
    "    # record kmt\n",
    "    kmt_neighbors[:, :, n] = kmt_rollable.roll(nlat=jroll, nlon=iroll, roll_coords=False)\n",
    "    n += 1\n",
    "\n",
    "side_wall_present = (kmt_neighbors <= ds.KMT).any(dim='corner')\n",
    "side_wall_kmt_min = (kmt_neighbors).min(dim='corner').astype(np.int)\n",
    "\n",
    "land_adjacent = xr.zeros_like(MASK)\n",
    "land_adjacent = land_adjacent.where((side_wall_present & (ZERO_TO_KM < ds.KMT) & (ZERO_TO_KM >= side_wall_kmt_min)) | (ZERO_TO_KM == ds.KMT-1))\n",
    "land_adjacent = xr.where(land_adjacent.notnull(), 1., 0.)\n",
    "land_adjacent.name = 'topo_adjacent_points'\n",
    "\n",
    "print('Land-adjacent points = 1.; Ocean = 2.; Land = 0.')\n",
    "kmin = int(ds.KMT.where(ds.KMT>0).min() - 1)\n",
    "land_adjacent_viz = xr.where(land_adjacent==0, MASK*2., land_adjacent)\n",
    "\n",
    "plt.figure()\n",
    "land_adjacent_viz.isel(z_t=kmin).plot()\n",
    "h = plt.title(f'min KMT={kmin+1}')\n",
    "\n",
    "plt.figure()\n",
    "land_adjacent_viz.isel(nlon=202).plot(yincrease=False)\n",
    "h = plt.title('Pacific transect')\n",
    "\n",
    "plt.figure()\n",
    "land_adjacent_viz.isel(nlat=45).plot(yincrease=False)\n",
    "h = plt.title('ACC transect')"
   ]
  },
  {
   "cell_type": "markdown",
   "metadata": {},
   "source": [
    "### Apply `land_adj_sedfrac_min`"
   ]
  },
  {
   "cell_type": "code",
   "execution_count": null,
   "metadata": {},
   "outputs": [],
   "source": [
    "sedfrac_mod = xr.where((land_adjacent==1.) & (sedfrac < land_adj_sedfrac_min), \n",
    "                       land_adj_sedfrac_min, sedfrac)\n",
    "\n",
    "sedfrac_mod = sedfrac_mod.transpose('z_t', 'nlat', 'nlon')\n",
    "sedfrac_mod = sedfrac_mod.where(MASK==1.).fillna(0.)\n",
    "sedfrac_mod.sum('z_t').plot()\n",
    "h = plt.title('Sum of sedfrac in column')"
   ]
  },
  {
   "cell_type": "markdown",
   "metadata": {},
   "source": [
    "## Compute `fesedflux_reduce`\n",
    "\n",
    "### Prepare `POC_flux`: \n",
    "- convert units\n",
    "- Where `POC_flux < POC_flux_gCm2yr_min, POC_flux = 0.`; \n",
    "- Where `POC_flux > POC_flux_gCm2yr_max, POC_flux = POC_flux_gCm2yr_max`"
   ]
  },
  {
   "cell_type": "code",
   "execution_count": null,
   "metadata": {},
   "outputs": [],
   "source": [
    "POC_flux = ds.POC_FLUX_IN * nmolCcm2s_to_gCm2yr\n",
    "POC_flux = xr.where(POC_flux <= POC_flux_gCm2yr_min, 0., POC_flux)\n",
    "POC_flux = xr.where(POC_flux > POC_flux_gCm2yr_max, POC_flux_gCm2yr_max, POC_flux)\n",
    "POC_flux = POC_flux.reset_index('z_t', drop=True)\n",
    "\n",
    "fig = plt.figure(figsize=(12,4))\n",
    "ax = fig.add_subplot(1, 2, 1)\n",
    "h = POC_flux.isel(z_t=3).plot()\n",
    "\n",
    "ax = fig.add_subplot(1, 2, 2)\n",
    "h = POC_flux.isel(z_t=-20).plot()"
   ]
  },
  {
   "cell_type": "markdown",
   "metadata": {},
   "source": [
    "### Compute `fesedflux_reduce`"
   ]
  },
  {
   "cell_type": "markdown",
   "metadata": {},
   "source": [
    "Compute and apply ad hoc scaling in to select regions"
   ]
  },
  {
   "cell_type": "code",
   "execution_count": null,
   "metadata": {},
   "outputs": [],
   "source": [
    "# initial computation\n",
    "fesedflux_reduce = coef_fesedflux_POC_flux * POC_flux * sedfrac_mod\n",
    "fesedflux_reduce = fesedflux_reduce.fillna(0.)\n",
    "\n",
    "fesedflux_reduce = fesedflux_reduce * mmolm2yr_to_µmolm2d\n",
    "\n",
    "# plot initial values\n",
    "plt.figure()\n",
    "fesedflux_reduce.sum('z_t').plot(norm=colors.LogNorm(vmin=1e-2, vmax=20.))\n",
    "h = plt.title('fesedflux_reduce: column sum (before ad hoc adjustment)')\n",
    "\n",
    "# apply ad hoc adjustments\n",
    "region_def = ((134. <= ds.TLONG) & (ds.TLONG <= 200) \n",
    "              & (np.fabs(ds.TLAT) <= 15) & (ds.z_t <= 450e2))\n",
    "\n",
    "region_def = region_def.where(ds.KMT > 0).reset_index('z_t', drop=True)\n",
    "region_def = region_def.transpose('z_t', 'nlat', 'nlon')\n",
    "\n",
    "fesedflux_reduce = xr.where(region_def==1, fesedflux_reduce * western_pacific_factor, fesedflux_reduce)\n",
    "fesedflux_reduce.name = 'Fe sediment flux (reducing)'\n",
    "fesedflux_reduce.attrs['units'] = 'micromol m$^{-2}$ d$^{-1}$'\n",
    "\n",
    "\n",
    "fig = plt.figure(figsize=(12,4))\n",
    "ax = fig.add_subplot(1, 2, 1)\n",
    "region_def.isel(z_t=0).plot()\n",
    "h = plt.title('ad hoc adjustment region')\n",
    "\n",
    "ax = fig.add_subplot(1, 2, 2)\n",
    "fesedflux_reduce.sum('z_t').plot(norm=colors.LogNorm(vmin=1e-2, vmax=20.))\n",
    "h = plt.title('fesedflux_reduce: column sum (after ad hoc adjustment)')"
   ]
  },
  {
   "cell_type": "markdown",
   "metadata": {},
   "source": [
    "### Report global integral "
   ]
  },
  {
   "cell_type": "code",
   "execution_count": null,
   "metadata": {},
   "outputs": [],
   "source": [
    "fesedflux_reduce_global = esmlab.statistics.weighted_sum(fesedflux_reduce, weights=ds.TAREA/cm2_per_m2, \n",
    "                                                         dim=('nlat', 'nlon')).sum('z_t')\n",
    "\n",
    "fesedflux_reduce_global = fesedflux_reduce_global * mol_per_µmol / mol_per_Gmol * d_per_yr\n",
    "print(f'Global integral of `fesedflux_reduce_global` = {fesedflux_reduce_global.values:0.4f} Gmol Fe/yr')\n"
   ]
  },
  {
   "cell_type": "markdown",
   "metadata": {},
   "source": [
    "## Compute `fesedflux_oxic`\n",
    "\n",
    "- Read `UVEL` and `VVEL` and compute `current_speed`\n",
    "- Where `current_speed < current_speed_min: current_speed = current_speed_min`\n",
    "- Where `current_speed > current_speed_max: current_speed = current_speed_max` \n",
    "- `fesedflux_oxic = coef_fesedflux_current_speed2 * sedfrac * current_speed**2`"
   ]
  },
  {
   "cell_type": "code",
   "execution_count": null,
   "metadata": {},
   "outputs": [],
   "source": [
    "current_speed = np.sqrt(ds.UVEL**2 + ds.VVEL**2)\n",
    "current_speed = xr.where(current_speed < current_speed_min, current_speed_min, current_speed)\n",
    "current_speed = xr.where(current_speed > 10., current_speed_max, current_speed)\n",
    "h = current_speed.isel(z_t=30).plot()\n",
    "\n",
    "current_speed = current_speed.reset_index('z_t', drop=True)"
   ]
  },
  {
   "cell_type": "code",
   "execution_count": null,
   "metadata": {},
   "outputs": [],
   "source": [
    "fesedflux_oxic = coef_fesedflux_current_speed2 * sedfrac_mod * current_speed**2\n",
    "fesedflux_oxic = fesedflux_oxic * mmolm2yr_to_μmolm2d\n",
    "fesedflux_oxic.name = 'Fe sediment flux (oxic)'\n",
    "fesedflux_oxic.attrs['units'] = 'micromol m$^{-2}$ d$^{-1}$'\n",
    "fesedflux_oxic.attrs['long_name'] = 'Fe sediment flux (oxic)'\n",
    "\n",
    "plt.figure()\n",
    "fesedflux_oxic.sum('z_t').plot(norm=colors.LogNorm(vmin=1e-3, vmax=fesedflux_oxic.max()))\n",
    "h = plt.title('fesedflux_oxic')"
   ]
  },
  {
   "cell_type": "code",
   "execution_count": null,
   "metadata": {},
   "outputs": [],
   "source": [
    "fesedflux_oxic_global = esmlab.statistics.weighted_sum(fesedflux_oxic, weights=ds.TAREA/cm2_per_m2, \n",
    "                                                         dim=('nlat', 'nlon')).sum('z_t')\n",
    "\n",
    "fesedflux_oxic_global = fesedflux_oxic_global * mol_per_µmol / mol_per_Gmol * d_per_yr\n",
    "print(f'Global integral of `fesedflux_oxic_global` = {fesedflux_oxic_global.values:0.4f} Gmol Fe/yr')\n"
   ]
  },
  {
   "cell_type": "markdown",
   "metadata": {},
   "source": [
    "## Compute total"
   ]
  },
  {
   "cell_type": "code",
   "execution_count": null,
   "metadata": {},
   "outputs": [],
   "source": [
    "fesedflux_total = (fesedflux_oxic + fesedflux_reduce)\n",
    "fesedflux_total.attrs['units'] = 'micromol/m^2/d'\n",
    "fesedflux_total.attrs['long_name'] = 'Fe sediment flux (total)'\n",
    "\n",
    "fesedflux_total_global = esmlab.statistics.weighted_sum(fesedflux_total, weights=ds.TAREA/cm2_per_m2, \n",
    "                                                         dim=('nlat', 'nlon')).sum('z_t')\n",
    "\n",
    "fesedflux_total_global = fesedflux_total_global * mol_per_µmol / mol_per_Gmol * d_per_yr\n",
    "print(f'Global integral of `fesedflux_total_global` = {fesedflux_total_global.values:0.4f} Gmol Fe/yr')\n",
    "\n",
    "\n",
    "plt.figure()\n",
    "fesedflux_total.sum('z_t').plot(norm=colors.LogNorm(vmin=1e-2, vmax=20.))\n",
    "\n",
    "plt.figure()\n",
    "fesedflux_total.isel(nlon=200).plot(yincrease=False, norm=colors.LogNorm(vmin=1e-2, vmax=20.))\n",
    "\n"
   ]
  },
  {
   "cell_type": "markdown",
   "metadata": {},
   "source": [
    "## Compare with CESM2 forcing dataset"
   ]
  },
  {
   "cell_type": "code",
   "execution_count": null,
   "metadata": {},
   "outputs": [],
   "source": [
    "cesm2_file = f'{config.inputdata}/ocn/pop/gx1v6/forcing/fesedfluxTot_gx1v6_cesm2_2018_c180618.nc'\n",
    "ds2 = xr.open_dataset(cesm2_file)\n",
    "\n",
    "ds2['AREA_m2'] = ds.TAREA.rename({'nlat': 'y', 'nlon': 'x'}) * 1e-4\n",
    "ds2.FESEDFLUXIN.attrs['units'] = 'µmol/m^2/d'\n",
    "ds2"
   ]
  },
  {
   "cell_type": "code",
   "execution_count": null,
   "metadata": {},
   "outputs": [],
   "source": [
    "fesedflux_total_cesm2 = esmlab.statistics.weighted_sum(ds2.FESEDFLUXIN, weights=ds2.AREA_m2, \n",
    "                                                         dim=('y', 'x')).sum('z')\n",
    "fesedflux_total_cesm2 = fesedflux_total_cesm2 * mol_per_µmol / mol_per_Gmol * d_per_yr\n",
    "\n",
    "print(f'Global integral of `fesedflux_total_cesm2` = {fesedflux_total_cesm2.values:0.4f} Gmol Fe/yr')"
   ]
  },
  {
   "cell_type": "code",
   "execution_count": null,
   "metadata": {},
   "outputs": [],
   "source": [
    "plt.figure()\n",
    "ds2.FESEDFLUXIN.sum('z').plot(norm=colors.LogNorm(vmin=1e-2, vmax=20.))\n",
    "\n",
    "plt.figure()\n",
    "ds2.FESEDFLUXIN.isel(x=200).plot(yincrease=False, norm=colors.LogNorm(vmin=1e-2, vmax=20.))\n",
    "\n",
    "plt.figure()\n",
    "esmlab.statistics.weighted_sum(ds2.FESEDFLUXIN, weights=ds2.AREA_m2, dim=('y', 'x')).plot(label='CESM2')\n",
    "esmlab.statistics.weighted_sum(fesedflux_total, weights=ds.TAREA/cm2_per_m2, dim=('nlat', 'nlon')).plot(label='this dataset')\n",
    "plt.ylabel('Fe flux [µmol/yr]')\n",
    "plt.legend()"
   ]
  },
  {
   "cell_type": "markdown",
   "metadata": {},
   "source": [
    "## Construct output file\n",
    "\n",
    "The model uses a scale factor when reading in the `fesedflux`:\n",
    "`scale_factor = 1.1574e-6`; this converts from µmol/m^2/d to nmol/cm^2/s."
   ]
  },
  {
   "cell_type": "code",
   "execution_count": null,
   "metadata": {},
   "outputs": [],
   "source": [
    "dso = xr.Dataset()\n",
    "\n",
    "dso['FESEDFLUXIN'] = fesedflux_total\n",
    "dso.FESEDFLUXIN.encoding = {'_FillValue': None, 'dtype': np.single}\n",
    "\n",
    "dso['FESEDFLUXIN_reduce'] = fesedflux_reduce\n",
    "dso.FESEDFLUXIN_reduce.encoding = {'_FillValue': None, 'dtype': np.single}\n",
    "\n",
    "dso['FESEDFLUXIN_oxic'] = fesedflux_oxic\n",
    "dso.FESEDFLUXIN_oxic.encoding = {'_FillValue': None, 'dtype': np.single}\n",
    "\n",
    "for v in ['TAREA', 'TLONG', 'TLAT', 'KMT', 'z_t']:\n",
    "    dso[v] = ds[v]\n",
    "    dso.encoding['_FillValue'] = None\n",
    "    \n",
    "datestamp = datetime.now(timezone.utc).strftime(\"%Y-%m-%d\")\n",
    "dso.attrs['history'] = f'created by {id_string} on {datestamp}'\n",
    "dso.attrs['input_file_list'] = ' '.join(input_file_list)\n",
    "\n",
    "datestamp = date.today().strftime(\"%y%m%d\")\n",
    "file_out = f'{config.dirout}/fesedflux_total_reduce_oxic_{dst_grid}.c{datestamp}.nc'\n",
    "dso.to_netcdf(file_out)"
   ]
  },
  {
   "cell_type": "code",
   "execution_count": null,
   "metadata": {},
   "outputs": [],
   "source": [
    "%load_ext watermark\n",
    "%watermark --iversion -g  -m -v -u -d"
   ]
  },
  {
   "cell_type": "markdown",
   "metadata": {},
   "source": [
    "\n"
   ]
  }
 ],
 "metadata": {
  "kernelspec": {
   "display_name": "Python [conda env:miniconda3-marbl-forcing]",
   "language": "python",
   "name": "conda-env-miniconda3-marbl-forcing-py"
  },
  "language_info": {
   "codemirror_mode": {
    "name": "ipython",
    "version": 3
   },
   "file_extension": ".py",
   "mimetype": "text/x-python",
   "name": "python",
   "nbconvert_exporter": "python",
   "pygments_lexer": "ipython3",
   "version": "3.7.6"
  }
 },
 "nbformat": 4,
 "nbformat_minor": 4
}
